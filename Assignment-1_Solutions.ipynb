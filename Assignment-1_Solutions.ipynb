{
 "cells": [
  {
   "cell_type": "markdown",
   "metadata": {},
   "source": [
    "# Assignment - 1 Solutions"
   ]
  },
  {
   "cell_type": "markdown",
   "metadata": {},
   "source": [
    "1.Install Jupyter notebook and run the first program and share the screenshot of the output.\n",
    "\n",
    "2.Write a program which will find all such numbers which are divisible by 7 but are not a multiple\n",
    "of 5, between 2000 and 3200 (both included). The numbers obtained should be printed in a\n",
    "comma-separated sequence on a single line.\n",
    "\n",
    "Solution:\n"
   ]
  },
  {
   "cell_type": "code",
   "execution_count": 33,
   "metadata": {
    "ExecuteTime": {
     "end_time": "2020-05-02T04:29:16.566553Z",
     "start_time": "2020-05-02T04:29:16.548560Z"
    }
   },
   "outputs": [
    {
     "data": {
      "text/plain": [
       "[2002,\n",
       " 2009,\n",
       " 2016,\n",
       " 2023,\n",
       " 2030,\n",
       " 2037,\n",
       " 2044,\n",
       " 2051,\n",
       " 2058,\n",
       " 2065,\n",
       " 2072,\n",
       " 2079,\n",
       " 2086,\n",
       " 2093,\n",
       " 2107,\n",
       " 2114,\n",
       " 2121,\n",
       " 2128,\n",
       " 2135,\n",
       " 2142,\n",
       " 2149,\n",
       " 2156,\n",
       " 2163,\n",
       " 2170,\n",
       " 2177,\n",
       " 2184,\n",
       " 2191,\n",
       " 2198,\n",
       " 2205,\n",
       " 2212,\n",
       " 2219,\n",
       " 2226,\n",
       " 2233,\n",
       " 2240,\n",
       " 2247,\n",
       " 2254,\n",
       " 2261,\n",
       " 2268,\n",
       " 2282,\n",
       " 2289,\n",
       " 2296,\n",
       " 2303,\n",
       " 2310,\n",
       " 2317,\n",
       " 2324,\n",
       " 2331,\n",
       " 2338,\n",
       " 2345,\n",
       " 2352,\n",
       " 2359,\n",
       " 2366,\n",
       " 2373,\n",
       " 2380,\n",
       " 2387,\n",
       " 2394,\n",
       " 2401,\n",
       " 2408,\n",
       " 2415,\n",
       " 2422,\n",
       " 2429,\n",
       " 2436,\n",
       " 2443,\n",
       " 2457,\n",
       " 2464,\n",
       " 2471,\n",
       " 2478,\n",
       " 2485,\n",
       " 2492,\n",
       " 2499,\n",
       " 2506,\n",
       " 2513,\n",
       " 2520,\n",
       " 2527,\n",
       " 2534,\n",
       " 2541,\n",
       " 2548,\n",
       " 2555,\n",
       " 2562,\n",
       " 2569,\n",
       " 2576,\n",
       " 2583,\n",
       " 2590,\n",
       " 2597,\n",
       " 2604,\n",
       " 2611,\n",
       " 2618,\n",
       " 2632,\n",
       " 2639,\n",
       " 2646,\n",
       " 2653,\n",
       " 2660,\n",
       " 2667,\n",
       " 2674,\n",
       " 2681,\n",
       " 2688,\n",
       " 2695,\n",
       " 2702,\n",
       " 2709,\n",
       " 2716,\n",
       " 2723,\n",
       " 2730,\n",
       " 2737,\n",
       " 2744,\n",
       " 2751,\n",
       " 2758,\n",
       " 2765,\n",
       " 2772,\n",
       " 2779,\n",
       " 2786,\n",
       " 2793,\n",
       " 2807,\n",
       " 2814,\n",
       " 2821,\n",
       " 2828,\n",
       " 2835,\n",
       " 2842,\n",
       " 2849,\n",
       " 2856,\n",
       " 2863,\n",
       " 2870,\n",
       " 2877,\n",
       " 2884,\n",
       " 2891,\n",
       " 2898,\n",
       " 2905,\n",
       " 2912,\n",
       " 2919,\n",
       " 2926,\n",
       " 2933,\n",
       " 2940,\n",
       " 2947,\n",
       " 2954,\n",
       " 2961,\n",
       " 2968,\n",
       " 2982,\n",
       " 2989,\n",
       " 2996,\n",
       " 3003,\n",
       " 3010,\n",
       " 3017,\n",
       " 3024,\n",
       " 3031,\n",
       " 3038,\n",
       " 3045,\n",
       " 3052,\n",
       " 3059,\n",
       " 3066,\n",
       " 3073,\n",
       " 3080,\n",
       " 3087,\n",
       " 3094,\n",
       " 3101,\n",
       " 3108,\n",
       " 3115,\n",
       " 3122,\n",
       " 3129,\n",
       " 3136,\n",
       " 3143,\n",
       " 3157,\n",
       " 3164,\n",
       " 3171,\n",
       " 3178,\n",
       " 3185,\n",
       " 3192,\n",
       " 3199]"
      ]
     },
     "execution_count": 33,
     "metadata": {},
     "output_type": "execute_result"
    }
   ],
   "source": [
    "A = []\n",
    "for x in range(2000,3200):\n",
    "    if (x%7==0):\n",
    "        y= x/5\n",
    "     \n",
    "        if (y%5)!=0:\n",
    "            A.append(x)\n",
    "            \n",
    "            \n",
    "A       \n",
    " "
   ]
  },
  {
   "cell_type": "code",
   "execution_count": 32,
   "metadata": {
    "ExecuteTime": {
     "end_time": "2020-05-02T04:28:39.885924Z",
     "start_time": "2020-05-02T04:28:39.865932Z"
    }
   },
   "outputs": [
    {
     "name": "stdout",
     "output_type": "stream",
     "text": [
      "2002,\n",
      "2009,\n",
      "2016,\n",
      "2023,\n",
      "2037,\n",
      "2044,\n",
      "2051,\n",
      "2058,\n",
      "2072,\n",
      "2079,\n",
      "2086,\n",
      "2093,\n",
      "2107,\n",
      "2114,\n",
      "2121,\n",
      "2128,\n",
      "2142,\n",
      "2149,\n",
      "2156,\n",
      "2163,\n",
      "2177,\n",
      "2184,\n",
      "2191,\n",
      "2198,\n",
      "2212,\n",
      "2219,\n",
      "2226,\n",
      "2233,\n",
      "2247,\n",
      "2254,\n",
      "2261,\n",
      "2268,\n",
      "2282,\n",
      "2289,\n",
      "2296,\n",
      "2303,\n",
      "2317,\n",
      "2324,\n",
      "2331,\n",
      "2338,\n",
      "2352,\n",
      "2359,\n",
      "2366,\n",
      "2373,\n",
      "2387,\n",
      "2394,\n",
      "2401,\n",
      "2408,\n",
      "2422,\n",
      "2429,\n",
      "2436,\n",
      "2443,\n",
      "2457,\n",
      "2464,\n",
      "2471,\n",
      "2478,\n",
      "2492,\n",
      "2499,\n",
      "2506,\n",
      "2513,\n",
      "2527,\n",
      "2534,\n",
      "2541,\n",
      "2548,\n",
      "2562,\n",
      "2569,\n",
      "2576,\n",
      "2583,\n",
      "2597,\n",
      "2604,\n",
      "2611,\n",
      "2618,\n",
      "2632,\n",
      "2639,\n",
      "2646,\n",
      "2653,\n",
      "2667,\n",
      "2674,\n",
      "2681,\n",
      "2688,\n",
      "2702,\n",
      "2709,\n",
      "2716,\n",
      "2723,\n",
      "2737,\n",
      "2744,\n",
      "2751,\n",
      "2758,\n",
      "2772,\n",
      "2779,\n",
      "2786,\n",
      "2793,\n",
      "2807,\n",
      "2814,\n",
      "2821,\n",
      "2828,\n",
      "2842,\n",
      "2849,\n",
      "2856,\n",
      "2863,\n",
      "2877,\n",
      "2884,\n",
      "2891,\n",
      "2898,\n",
      "2912,\n",
      "2919,\n",
      "2926,\n",
      "2933,\n",
      "2947,\n",
      "2954,\n",
      "2961,\n",
      "2968,\n",
      "2982,\n",
      "2989,\n",
      "2996,\n",
      "3003,\n",
      "3017,\n",
      "3024,\n",
      "3031,\n",
      "3038,\n",
      "3052,\n",
      "3059,\n",
      "3066,\n",
      "3073,\n",
      "3087,\n",
      "3094,\n",
      "3101,\n",
      "3108,\n",
      "3122,\n",
      "3129,\n",
      "3136,\n",
      "3143,\n",
      "3157,\n",
      "3164,\n",
      "3171,\n",
      "3178,\n",
      "3192,\n",
      "3199,\n"
     ]
    }
   ],
   "source": [
    "for x in range(2000,3200):\n",
    "    if (x%7==0) and (x%5!=0):\n",
    "        print(str(x)+',')"
   ]
  },
  {
   "cell_type": "markdown",
   "metadata": {},
   "source": [
    "3.Write a Python program to accept the user's first and last name and then getting them printed in\n",
    "the the reverse order with a space between first name and last name.\n",
    "\n",
    "\n",
    "Solution :\n"
   ]
  },
  {
   "cell_type": "code",
   "execution_count": 19,
   "metadata": {
    "ExecuteTime": {
     "end_time": "2020-05-02T05:24:40.693348Z",
     "start_time": "2020-05-02T05:24:34.448760Z"
    },
    "scrolled": true
   },
   "outputs": [
    {
     "name": "stdout",
     "output_type": "stream",
     "text": [
      "Enter First_name :venu\n",
      "Enter Last_name :gopal\n",
      "If U want reverse order type yes/no :no\n",
      "Reverse order :lapog unev\n"
     ]
    }
   ],
   "source": [
    "first_name = input(\"Enter First_name :\")\n",
    "last_name =input(\"Enter Last_name :\")\n",
    "\n",
    "x =first_name +' '+last_name\n",
    "yes=x\n",
    "y=yes\n",
    "\n",
    "if input(\"If U want reverse order type yes/no :\") == yes or y:\n",
    "    print(\"Reverse order :\" + x[::-1])\n",
    "    \n",
    "else:\n",
    "    print(\"User Entered Name :\" + first_name +' '+last_name)\n",
    "    "
   ]
  },
  {
   "cell_type": "code",
   "execution_count": 20,
   "metadata": {
    "ExecuteTime": {
     "end_time": "2020-05-02T05:30:51.295831Z",
     "start_time": "2020-05-02T05:30:39.107800Z"
    }
   },
   "outputs": [
    {
     "name": "stdout",
     "output_type": "stream",
     "text": [
      "Enter First_name :VENU GOPAL\n",
      "Enter Last_name :PENTYALA\n",
      "Hello PENTYALA VENU GOPAL\n"
     ]
    }
   ],
   "source": [
    "first_name = input(\"Enter First_name :\")\n",
    "last_name =input(\"Enter Last_name :\")\n",
    "\n",
    "print(\"Hello \" + last_name +' ' +first_name)"
   ]
  },
  {
   "cell_type": "code",
   "execution_count": null,
   "metadata": {},
   "outputs": [],
   "source": []
  },
  {
   "cell_type": "markdown",
   "metadata": {},
   "source": [
    "4.Write a Python program to find the volume of a sphere with diameter 12 cm.\n",
    "Formula: V=4/3 * π * r3\n",
    "\n",
    "Solution:\n"
   ]
  },
  {
   "cell_type": "code",
   "execution_count": 34,
   "metadata": {
    "ExecuteTime": {
     "end_time": "2020-05-02T05:41:18.761582Z",
     "start_time": "2020-05-02T05:41:17.325356Z"
    }
   },
   "outputs": [
    {
     "name": "stdout",
     "output_type": "stream",
     "text": [
      "Enter VOS with Diameter:12\n",
      "Result 'V'= 7238.229473870882\n"
     ]
    }
   ],
   "source": [
    "import math \n",
    "r=int(input(\"Enter VOS with Diameter:\"))\n",
    "V=((4/3)*math.pi*r**3)\n",
    "print(\"Result 'V'=\", V)"
   ]
  },
  {
   "cell_type": "code",
   "execution_count": null,
   "metadata": {},
   "outputs": [],
   "source": []
  },
  {
   "cell_type": "markdown",
   "metadata": {},
   "source": [
    "# Task 2"
   ]
  },
  {
   "cell_type": "markdown",
   "metadata": {},
   "source": [
    "1.Write a program which accepts a sequence of comma-separated numbers from console and\n",
    "generate a list.\n",
    "\n",
    "Solution:\n"
   ]
  },
  {
   "cell_type": "code",
   "execution_count": 37,
   "metadata": {
    "ExecuteTime": {
     "end_time": "2020-05-02T05:46:41.848882Z",
     "start_time": "2020-05-02T05:46:33.084436Z"
    }
   },
   "outputs": [
    {
     "name": "stdout",
     "output_type": "stream",
     "text": [
      "Enter Some comma-separated numbers :1,2,3,4,5,6,7,8\n",
      "['1', '2', '3', '4', '5', '6', '7', '8']\n"
     ]
    }
   ],
   "source": [
    "values =input(\"Enter Some comma-separated numbers :\")\n",
    "ls = values.split(\",\")\n",
    "print(ls)"
   ]
  },
  {
   "cell_type": "code",
   "execution_count": null,
   "metadata": {},
   "outputs": [],
   "source": []
  },
  {
   "cell_type": "markdown",
   "metadata": {},
   "source": [
    "2.Create the below pattern using nested for loop in Python\n",
    "\n",
    "Solution:"
   ]
  },
  {
   "cell_type": "code",
   "execution_count": 55,
   "metadata": {
    "ExecuteTime": {
     "end_time": "2020-05-02T06:14:10.931130Z",
     "start_time": "2020-05-02T06:14:10.919130Z"
    }
   },
   "outputs": [
    {
     "name": "stdout",
     "output_type": "stream",
     "text": [
      "Pattern using Nested For Loop :\n",
      "\n",
      "*\n",
      "**\n",
      "***\n",
      "****\n",
      "*****\n",
      "****\n",
      "***\n",
      "**\n",
      "*\n"
     ]
    }
   ],
   "source": [
    "n=5\n",
    "print(\"Pattern using Nested For Loop :\")\n",
    "for i in range(n):\n",
    "    for j in range(i):\n",
    "        print('*',end=\"\")\n",
    "    print('')\n",
    "for i in range(n,0,-1):\n",
    "    for j in range(i):\n",
    "        print('*',end=\"\")\n",
    "    print('')"
   ]
  },
  {
   "cell_type": "code",
   "execution_count": null,
   "metadata": {},
   "outputs": [],
   "source": []
  },
  {
   "cell_type": "markdown",
   "metadata": {},
   "source": [
    "3.Write a Python program to reverse a word after accepting the input from the use\n",
    "\n",
    "Sample Output:\n",
    "Input word: AcadGild\n",
    "Output: dilGdacA\n",
    "\n",
    "Solution:\n"
   ]
  },
  {
   "cell_type": "code",
   "execution_count": 1,
   "metadata": {
    "ExecuteTime": {
     "end_time": "2020-05-02T06:19:25.706481Z",
     "start_time": "2020-05-02T06:19:18.961757Z"
    }
   },
   "outputs": [
    {
     "name": "stdout",
     "output_type": "stream",
     "text": [
      "Input Word :AcadGild\n",
      "Output : dliGdacA\n"
     ]
    }
   ],
   "source": [
    "input_word=input(\"Input Word :\")\n",
    "IW=input_word\n",
    "print(\"Output :\",IW[::-1])\n"
   ]
  },
  {
   "cell_type": "code",
   "execution_count": null,
   "metadata": {},
   "outputs": [],
   "source": []
  },
  {
   "cell_type": "markdown",
   "metadata": {},
   "source": [
    "4.Write a Python Program to print the given string in the format specified in the sample output.\n",
    "WE, THE PEOPLE OF INDIA, having solemnly resolved to constitute India into a\n",
    "SOVEREIGN, SOCIALIST, SECULAR, DEMOCRATIC REPUBLIC and to secure to all\n",
    "its citizens\n",
    "\n",
    "Sample Output:\n",
    "WE, THE PEOPLE OF INDIA,\n",
    "having solemnly resolved to constitute India into a SOVEREIGN, !\n",
    "SOCIALIST, SECULAR, DEMOCRATIC REPUBLIC\n",
    "and to secure to all its citizens"
   ]
  },
  {
   "cell_type": "code",
   "execution_count": 12,
   "metadata": {
    "ExecuteTime": {
     "end_time": "2020-05-02T06:32:57.915307Z",
     "start_time": "2020-05-02T06:32:57.909307Z"
    }
   },
   "outputs": [
    {
     "name": "stdout",
     "output_type": "stream",
     "text": [
      "WE, THE PEOPLE OF INDIA,\n",
      "\t having solemnly resolved to constitute India into a SOVEREIGN,!\n",
      "\t\t SOCIALIST, SECULAR, DEMOCRATIC REPUBLIC \n",
      "\t\t  and to secure to all its citizens\n"
     ]
    }
   ],
   "source": [
    "print(\"WE, THE PEOPLE OF INDIA,\\n\\t having solemnly resolved to constitute India into a SOVEREIGN,!\\n\\t\\t SOCIALIST, SECULAR, DEMOCRATIC REPUBLIC \\n\\t\\t  and to secure to all its citizens\")"
   ]
  },
  {
   "cell_type": "code",
   "execution_count": null,
   "metadata": {},
   "outputs": [],
   "source": []
  }
 ],
 "metadata": {
  "kernelspec": {
   "display_name": "Python 3",
   "language": "python",
   "name": "python3"
  },
  "language_info": {
   "codemirror_mode": {
    "name": "ipython",
    "version": 3
   },
   "file_extension": ".py",
   "mimetype": "text/x-python",
   "name": "python",
   "nbconvert_exporter": "python",
   "pygments_lexer": "ipython3",
   "version": "3.7.4"
  },
  "toc": {
   "base_numbering": 1,
   "nav_menu": {},
   "number_sections": true,
   "sideBar": true,
   "skip_h1_title": false,
   "title_cell": "Table of Contents",
   "title_sidebar": "Contents",
   "toc_cell": false,
   "toc_position": {},
   "toc_section_display": true,
   "toc_window_display": false
  }
 },
 "nbformat": 4,
 "nbformat_minor": 2
}
